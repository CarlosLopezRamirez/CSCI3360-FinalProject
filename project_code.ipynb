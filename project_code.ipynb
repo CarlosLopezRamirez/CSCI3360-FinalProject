{
 "cells": [
  {
   "cell_type": "code",
   "execution_count": null,
   "metadata": {},
   "outputs": [],
   "source": [
    "import pandas as pd\n",
    "import numpy as np\n",
    "import seaborn as sns\n",
    "import matplotlib.pyplot as plt\n",
    "from sklearn.model_selection import train_test_split"
   ]
  },
  {
   "cell_type": "code",
   "execution_count": null,
   "metadata": {},
   "outputs": [],
   "source": [
    "df = pd.read_csv('./music_genre.csv')"
   ]
  },
  {
   "cell_type": "code",
   "execution_count": null,
   "metadata": {},
   "outputs": [],
   "source": [
    "# Clean table of instance_id, artist_name, track_name, key, mode, and obtained_date\n",
    "df = df.drop(['instance_id', 'artist_name', 'track_name', 'key', 'mode', 'obtained_date', 'popularity'], axis=1)\n",
    "df = df.reset_index(drop=True)\n",
    "\n",
    "# Clean table of songs with negative duration\n",
    "negative_lengths = df[df['duration_ms'] < 0].index\n",
    "df.drop(negative_lengths, inplace=True)\n",
    "df = df.reset_index(drop=True)\n",
    "\n",
    "# Clean table of songs with unknown tempo\n",
    "unknown_tempo = df[df['tempo'] == '?'].index\n",
    "df.drop(unknown_tempo, inplace=True)\n",
    "df = df.reset_index(drop=True)\n",
    "\n",
    "# Clean table of songs with NaN values\n",
    "df = df.dropna()\n",
    "df = df.reset_index(drop=True)\n",
    "\n",
    "# Round tempos\n",
    "def df_value_round(x):\n",
    "    x = float(x)\n",
    "    return round(x)\n",
    "\n",
    "df['tempo'] = df['tempo'].apply(df_value_round)\n",
    "\n",
    "# convert duration_ms to durastion_secs\n",
    "def ms_to_s(x):\n",
    "    x = float(x)\n",
    "    return x / 1000\n",
    "\n",
    "df['duration_ms'] = df['duration_ms'].apply(ms_to_s)\n",
    "df = df.rename(columns={'duration_ms': 'duration_secs'})\n",
    "\n",
    "results = df['music_genre']"
   ]
  },
  {
   "cell_type": "code",
   "execution_count": null,
   "metadata": {},
   "outputs": [],
   "source": [
    "from sklearn.preprocessing import MinMaxScaler"
   ]
  },
  {
   "cell_type": "code",
   "execution_count": null,
   "metadata": {},
   "outputs": [],
   "source": [
    "normalize = MinMaxScaler()\n",
    "normalize.fit(df.drop('music_genre', axis=1))\n",
    "normalized = normalize.fit_transform(df.drop('music_genre', axis=1))\n",
    "normalized_df = pd.DataFrame(normalized, columns=(df.drop('music_genre', axis=1).columns))\n",
    "df = normalized_df"
   ]
  },
  {
   "cell_type": "code",
   "execution_count": null,
   "metadata": {},
   "outputs": [],
   "source": [
    "df['music_genre'] = results\n",
    "df"
   ]
  },
  {
   "cell_type": "code",
   "execution_count": null,
   "metadata": {},
   "outputs": [],
   "source": [
    "# histograms of each genre\n",
    "training_features = df.drop(['music_genre'], axis=1)\n",
    "for col in training_features:\n",
    "    hist = df.hist(column=col, by=df['music_genre'], figsize=(10,10), legend=True)"
   ]
  },
  {
   "cell_type": "code",
   "execution_count": null,
   "metadata": {},
   "outputs": [],
   "source": [
    "# split data into test and train\n",
    "train_df, test_df = train_test_split(df, test_size=.25, shuffle=True)"
   ]
  },
  {
   "cell_type": "code",
   "execution_count": null,
   "metadata": {},
   "outputs": [],
   "source": [
    "# histograms of training data\n",
    "histograms = train_df.hist(figsize=(20, 20))"
   ]
  },
  {
   "cell_type": "code",
   "execution_count": null,
   "metadata": {},
   "outputs": [],
   "source": [
    "# Descriptive Stats - Mean\n",
    "df.groupby(['music_genre']).mean()"
   ]
  },
  {
   "cell_type": "code",
   "execution_count": null,
   "metadata": {},
   "outputs": [],
   "source": [
    "# Descriptive Stats - Median\n",
    "df.groupby(['music_genre']).median()"
   ]
  },
  {
   "cell_type": "code",
   "execution_count": null,
   "metadata": {},
   "outputs": [],
   "source": [
    "# Descriptive Stats - Standard Deviation\n",
    "df.groupby(['music_genre']).median()"
   ]
  },
  {
   "cell_type": "code",
   "execution_count": null,
   "metadata": {},
   "outputs": [],
   "source": [
    "# Boxplots\n",
    "training_features = train_df.drop(['music_genre'], axis=1)\n",
    "for col in training_features:\n",
    "    boxplot = df.boxplot(column=[col], by=['music_genre'], figsize=(8,8), showfliers=False, showmeans=True)"
   ]
  },
  {
   "cell_type": "code",
   "execution_count": null,
   "metadata": {},
   "outputs": [],
   "source": [
    "# Correlation Matrix\n",
    "plt.figure(figsize=(10,10))\n",
    "sns.heatmap(df.corr(), annot=True, cmap=plt.cm.Blues)\n",
    "plt.show()"
   ]
  },
  {
   "cell_type": "code",
   "execution_count": null,
   "metadata": {},
   "outputs": [],
   "source": [
    "from sklearn.neighbors import KNeighborsClassifier\n",
    "from sklearn import metrics"
   ]
  },
  {
   "cell_type": "code",
   "execution_count": null,
   "metadata": {},
   "outputs": [],
   "source": [
    "knn_model = KNeighborsClassifier(5)\n",
    "\n",
    "training_features = train_df.drop(['music_genre'], axis=1)\n",
    "training_labels = train_df['music_genre']\n",
    "testing_features = test_df.drop(['music_genre'], axis=1)\n",
    "testing_labels = test_df['music_genre']\n",
    "knn_model.fit(training_features, training_labels)\n",
    "\n",
    "predicted = knn_model.predict(training_features)\n",
    "\n",
    "print('training set when k = 5:')\n",
    "print(metrics.classification_report(training_labels,predicted))\n",
    "print(metrics.confusion_matrix(training_labels, predicted))\n",
    "\n",
    "predicted = knn_model.predict(testing_features)\n",
    "print('testing set when k = 5:')\n",
    "print(metrics.classification_report(testing_labels, predicted))\n",
    "print(metrics.confusion_matrix(testing_labels, predicted))\n",
    "\n",
    "\n"
   ]
  },
  {
   "cell_type": "code",
   "execution_count": null,
   "metadata": {},
   "outputs": [],
   "source": [
    "knn_model = KNeighborsClassifier(25)\n",
    "\n",
    "training_features = train_df.drop(['music_genre'], axis=1)\n",
    "training_labels = train_df['music_genre']\n",
    "testing_features = test_df.drop(['music_genre'], axis=1)\n",
    "testing_labels = test_df['music_genre']\n",
    "knn_model.fit(training_features, training_labels)\n",
    "\n",
    "predicted = knn_model.predict(training_features)\n",
    "\n",
    "print('training set when k = 25:')\n",
    "print(metrics.classification_report(training_labels, predicted))\n",
    "print(metrics.confusion_matrix(training_labels, predicted))\n",
    "\n",
    "predicted = knn_model.predict(testing_features)\n",
    "print('testing set when k = 25:')\n",
    "print(metrics.classification_report(testing_labels, predicted))\n",
    "print(metrics.confusion_matrix(testing_labels, predicted))\n"
   ]
  },
  {
   "cell_type": "code",
   "execution_count": null,
   "metadata": {},
   "outputs": [],
   "source": [
    "from sklearn.naive_bayes import GaussianNB"
   ]
  },
  {
   "cell_type": "code",
   "execution_count": null,
   "metadata": {},
   "outputs": [],
   "source": [
    "model = GaussianNB()\n",
    "training_features = train_df.drop(['music_genre'], axis=1)\n",
    "training_labels = train_df['music_genre']\n",
    "model.fit(training_features, training_labels)\n",
    "predicted = model.predict(training_features)\n",
    "\n",
    "print('training set:')\n",
    "print(metrics.classification_report(training_labels, predicted))\n",
    "print(metrics.confusion_matrix(training_labels, predicted))\n",
    "\n",
    "print('testing set:')\n",
    "testing_features = test_df.drop(['music_genre'], axis=1)\n",
    "testing_labels = test_df['music_genre']\n",
    "predicted = model.predict(testing_features)\n",
    "print(metrics.classification_report(testing_labels, predicted))\n",
    "print(metrics.confusion_matrix(testing_labels, predicted))"
   ]
  },
  {
   "cell_type": "code",
   "execution_count": null,
   "metadata": {},
   "outputs": [],
   "source": [
    "from sklearn.neighbors import NearestCentroid"
   ]
  },
  {
   "cell_type": "code",
   "execution_count": null,
   "metadata": {},
   "outputs": [],
   "source": [
    "centroid_model = NearestCentroid()\n",
    "training_features = train_df.drop(['music_genre'], axis=1)\n",
    "training_labels = train_df['music_genre']\n",
    "testing_features = test_df.drop(['music_genre'], axis=1)\n",
    "testing_labels = test_df['music_genre']\n",
    "centroid_model.fit(training_features, training_labels)\n",
    "\n",
    "predicted = centroid_model.predict(training_features)\n",
    "print('training set:')\n",
    "print(metrics.classification_report(training_labels, predicted))\n",
    "print(metrics.confusion_matrix(training_labels, predicted))\n",
    "\n",
    "predicted = centroid_model.predict(testing_features)\n",
    "print('testing set:')\n",
    "print(metrics.classification_report(testing_labels, predicted))\n",
    "print(metrics.confusion_matrix(testing_labels, predicted))"
   ]
  }
 ],
 "metadata": {
  "kernelspec": {
   "display_name": "Python 3.9.12 ('base')",
   "language": "python",
   "name": "python3"
  },
  "language_info": {
   "codemirror_mode": {
    "name": "ipython",
    "version": 3
   },
   "file_extension": ".py",
   "mimetype": "text/x-python",
   "name": "python",
   "nbconvert_exporter": "python",
   "pygments_lexer": "ipython3",
   "version": "3.9.12"
  },
  "vscode": {
   "interpreter": {
    "hash": "8852394fc76b1c72c4cb3834fd7556578feb337848c8bb7e525a553fbab93ed8"
   }
  }
 },
 "nbformat": 4,
 "nbformat_minor": 2
}
