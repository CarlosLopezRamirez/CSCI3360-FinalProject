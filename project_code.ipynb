{
 "cells": [
  {
   "cell_type": "code",
   "execution_count": null,
   "metadata": {},
   "outputs": [],
   "source": [
    "import pandas as pd\n",
    "import numpy as np\n",
    "from sklearn.model_selection import train_test_split"
   ]
  },
  {
   "cell_type": "code",
   "execution_count": null,
   "metadata": {},
   "outputs": [],
   "source": [
    "df = pd.read_csv('./music_genre.csv')"
   ]
  },
  {
   "cell_type": "code",
   "execution_count": null,
   "metadata": {},
   "outputs": [],
   "source": [
    "# Clean table of instance_id, artist_name, track_name, key, mode, and obtained_date\n",
    "df = df.drop(['instance_id', 'artist_name', 'track_name', 'key', 'mode', 'obtained_date'], axis=1)\n",
    "\n",
    "# Clean table of songs with negative duration\n",
    "negative_lengths = df[df['duration_ms'] < 0].index\n",
    "df.drop(negative_lengths, inplace=True)\n",
    "\n",
    "# Clean table of songs with unknown tempo\n",
    "unknown_tempo = df[df['tempo'] == '?'].index\n",
    "df.drop(unknown_tempo, inplace=True)\n",
    "\n",
    "# Clean table of songs with NaN values\n",
    "df = df.dropna(subset=['popularity', 'danceability', 'duration_ms', 'energy', 'instrumentalness', 'liveness', 'loudness', 'speechiness', 'tempo', 'valence', 'music_genre'])\n",
    "\n",
    "# Round tempos\n",
    "def df_value_round(x):\n",
    "    x = float(x)\n",
    "    return round(x)\n",
    "\n",
    "df['tempo'] = df['tempo'].apply(df_value_round)\n",
    "\n",
    "# convert duration_ms to durastion_secs\n",
    "def ms_to_s(x):\n",
    "    x = float(x)\n",
    "    return x / 1000\n",
    "\n",
    "df['duration_ms'] = df['duration_ms'].apply(ms_to_s)\n",
    "df = df.rename(columns={'duration_ms': 'duration_secs'})"
   ]
  },
  {
   "cell_type": "code",
   "execution_count": null,
   "metadata": {},
   "outputs": [],
   "source": [
    "# split data into test and train\n",
    "train_df, test_df = train_test_split(df, test_size=.25, shuffle=True)"
   ]
  },
  {
   "cell_type": "code",
   "execution_count": null,
   "metadata": {},
   "outputs": [],
   "source": [
    "# histograms of training data\n",
    "histograms = train_df.hist(figsize=(20, 20))"
   ]
  },
  {
   "cell_type": "code",
   "execution_count": null,
   "metadata": {},
   "outputs": [],
   "source": [
    "train_features = df.drop(['music_genre'], axis=1)\n",
    "# Descriptive Statistics\n",
    "print(\"*****************************************************************\")\n",
    "for col in train_features:\n",
    "    print(\"{} mean = {}\".format(col, np.mean(train_features[col])))\n",
    "    print(\"{} median = {}\".format(col, np.median(train_features[col])))\n",
    "    print(\"{} standard deviation = {}\".format(col, np.std(train_features[col])))\n",
    "    print(\"*****************************************************************\")"
   ]
  },
  {
   "cell_type": "code",
   "execution_count": null,
   "metadata": {},
   "outputs": [],
   "source": [
    "# KNN HERE"
   ]
  },
  {
   "cell_type": "code",
   "execution_count": null,
   "metadata": {},
   "outputs": [],
   "source": [
    "# BAYES HERE"
   ]
  },
  {
   "cell_type": "code",
   "execution_count": null,
   "metadata": {},
   "outputs": [],
   "source": [
    "# RANDOM FOREST HERE"
   ]
  }
 ],
 "metadata": {
  "kernelspec": {
   "display_name": "Python 3.9.12 ('base')",
   "language": "python",
   "name": "python3"
  },
  "language_info": {
   "codemirror_mode": {
    "name": "ipython",
    "version": 3
   },
   "file_extension": ".py",
   "mimetype": "text/x-python",
   "name": "python",
   "nbconvert_exporter": "python",
   "pygments_lexer": "ipython3",
   "version": "3.9.12"
  },
  "orig_nbformat": 4,
  "vscode": {
   "interpreter": {
    "hash": "8852394fc76b1c72c4cb3834fd7556578feb337848c8bb7e525a553fbab93ed8"
   }
  }
 },
 "nbformat": 4,
 "nbformat_minor": 2
}
